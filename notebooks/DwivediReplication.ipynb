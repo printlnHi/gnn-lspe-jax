{
  "cells": [
    {
      "attachments": {},
      "cell_type": "markdown",
      "metadata": {
        "id": "E3DWdVN7spKm"
      },
      "source": [
        "Insert your Weights and Biases API key below"
      ]
    },
    {
      "cell_type": "code",
      "execution_count": null,
      "metadata": {
        "colab": {
          "base_uri": "https://localhost:8080/"
        },
        "id": "kolzt4g8rlP_",
        "outputId": "a4bfe1d2-908c-4080-d407-0d48622638dc"
      },
      "outputs": [],
      "source": [
        "%env WANDB_API_KEY=<YOUR_API_KEY>"
      ]
    },
    {
      "attachments": {},
      "cell_type": "markdown",
      "metadata": {
        "id": "jG7VZagW-fMk"
      },
      "source": [
        "# Setup"
      ]
    },
    {
      "cell_type": "code",
      "execution_count": null,
      "metadata": {
        "id": "wAuLrFkjvyO6"
      },
      "outputs": [],
      "source": [
        "!git clone https://github.com/printlnHi/gnn-lspe-jax.git"
      ]
    },
    {
      "cell_type": "code",
      "execution_count": null,
      "metadata": {
        "colab": {
          "base_uri": "https://localhost:8080/"
        },
        "id": "BG-9RZUoqsMU",
        "outputId": "89b44918-c997-4240-c656-296bda8dfde7"
      },
      "outputs": [],
      "source": [
        "%pip install -r gnn-lspe-jax/environment_specs/colab_requirements.txt"
      ]
    },
    {
      "cell_type": "code",
      "execution_count": null,
      "metadata": {},
      "outputs": [],
      "source": [
        "!gnn-lspe-jax/scripts/download_datasets.sh"
      ]
    },
    {
      "attachments": {},
      "cell_type": "markdown",
      "metadata": {
        "id": "4LlcHD_w-lEm"
      },
      "source": [
        "# Experiments"
      ]
    },
    {
      "attachments": {},
      "cell_type": "markdown",
      "metadata": {
        "id": "pa3gi3YTrzZl"
      },
      "source": [
        "If you are iterating on the repository, run these cells to check which commit you are working on and to pull new changes"
      ]
    },
    {
      "cell_type": "code",
      "execution_count": null,
      "metadata": {
        "colab": {
          "base_uri": "https://localhost:8080/"
        },
        "id": "fnTactVlr1yh",
        "outputId": "e463f078-af8c-475f-fcee-27f27c943347"
      },
      "outputs": [],
      "source": [
        "!cd gnn-lspe-jax; git log -n 1"
      ]
    },
    {
      "cell_type": "code",
      "execution_count": null,
      "metadata": {
        "colab": {
          "base_uri": "https://localhost:8080/"
        },
        "id": "o0puiPabpMSI",
        "outputId": "57448ee9-e686-4ccd-a1d8-96aaa577bd7e"
      },
      "outputs": [],
      "source": [
        "!cd gnn-lspe-jax; git pull"
      ]
    },
    {
      "attachments": {},
      "cell_type": "markdown",
      "metadata": {
        "id": "NIWhC8oVdGgr"
      },
      "source": [
        "## Core experiments"
      ]
    },
    {
      "attachments": {},
      "cell_type": "markdown",
      "metadata": {
        "id": "IvHxPcqYs2Ql"
      },
      "source": [
        "The wandb project names default to \"Part-II-ZINC\" and \"Part-II-MOLTOX21\". This likely isn't the name of your project, in which case use `--wandb_project=YOUR-WANDB-PROJECT`"
      ]
    },
    {
      "cell_type": "code",
      "execution_count": null,
      "metadata": {
        "colab": {
          "base_uri": "https://localhost:8080/"
        },
        "id": "ZmCurwc4dKxc",
        "outputId": "3db0d708-52f8-4985-a0f7-5adc56ffd366"
      },
      "outputs": [],
      "source": [
        "!gnn-lspe-jax/scripts/zinc_experiment.sh gnn-lspe-jax --wandb "
      ]
    },
    {
      "cell_type": "code",
      "execution_count": null,
      "metadata": {
        "id": "gdg-uqWRdSZZ"
      },
      "outputs": [],
      "source": [
        "!gnn-lspe-jax/scripts/run_moltox21.sh gnn-lspe-jax --wandb"
      ]
    }
  ],
  "metadata": {
    "accelerator": "GPU",
    "colab": {
      "provenance": []
    },
    "gpuClass": "standard",
    "kernelspec": {
      "display_name": "Python 3",
      "name": "python3"
    },
    "language_info": {
      "name": "python"
    }
  },
  "nbformat": 4,
  "nbformat_minor": 0
}
